{
 "cells": [
  {
   "cell_type": "code",
   "execution_count": 1,
   "metadata": {},
   "outputs": [],
   "source": [
    "import youtube_api as ya\n",
    "import database as d"
   ]
  },
  {
   "cell_type": "code",
   "execution_count": 2,
   "metadata": {},
   "outputs": [],
   "source": [
    "# keys\n",
    "api_key = 'x'\n",
    "channel_id = 'UCqlthGjbLIci7i3x2gk8P4Q'"
   ]
  },
  {
   "cell_type": "code",
   "execution_count": 3,
   "metadata": {},
   "outputs": [
    {
     "data": {
      "text/html": [
       "<div>\n",
       "<style scoped>\n",
       "    .dataframe tbody tr th:only-of-type {\n",
       "        vertical-align: middle;\n",
       "    }\n",
       "\n",
       "    .dataframe tbody tr th {\n",
       "        vertical-align: top;\n",
       "    }\n",
       "\n",
       "    .dataframe thead th {\n",
       "        text-align: right;\n",
       "    }\n",
       "</style>\n",
       "<table border=\"1\" class=\"dataframe\">\n",
       "  <thead>\n",
       "    <tr style=\"text-align: right;\">\n",
       "      <th></th>\n",
       "      <th>video_id</th>\n",
       "      <th>video_title</th>\n",
       "      <th>upload_date</th>\n",
       "      <th>view_count</th>\n",
       "      <th>like_count</th>\n",
       "      <th>dislike_count</th>\n",
       "      <th>comment_count</th>\n",
       "      <th>duration</th>\n",
       "      <th>tags</th>\n",
       "    </tr>\n",
       "  </thead>\n",
       "  <tbody>\n",
       "    <tr>\n",
       "      <th>0</th>\n",
       "      <td>hlldAJFX6ko</td>\n",
       "      <td>David Beckham used to party on this Historic I...</td>\n",
       "      <td>2022-12-30</td>\n",
       "      <td>709</td>\n",
       "      <td>60</td>\n",
       "      <td>0</td>\n",
       "      <td>2</td>\n",
       "      <td>PT58S</td>\n",
       "      <td>[nadir on the go, nadir on the go english, tra...</td>\n",
       "    </tr>\n",
       "    <tr>\n",
       "      <th>1</th>\n",
       "      <td>iejxvmCxpuY</td>\n",
       "      <td>Journey to Budva from Podgorica 🇲🇪</td>\n",
       "      <td>2022-12-28</td>\n",
       "      <td>359</td>\n",
       "      <td>33</td>\n",
       "      <td>0</td>\n",
       "      <td>1</td>\n",
       "      <td>PT59S</td>\n",
       "      <td>[nadir on the go, nadir on the go english, tra...</td>\n",
       "    </tr>\n",
       "    <tr>\n",
       "      <th>2</th>\n",
       "      <td>_0oHMwk6IY8</td>\n",
       "      <td>First Impressions of Podgorica, Montenegro 🇲🇪</td>\n",
       "      <td>2022-12-28</td>\n",
       "      <td>1217</td>\n",
       "      <td>68</td>\n",
       "      <td>0</td>\n",
       "      <td>5</td>\n",
       "      <td>PT53S</td>\n",
       "      <td>[nadir on the go, nadir on the go english, tra...</td>\n",
       "    </tr>\n",
       "    <tr>\n",
       "      <th>3</th>\n",
       "      <td>zpMvN-QM87M</td>\n",
       "      <td>Glacial Lake in Montenegro&amp;#39;s mountains 🇲🇪</td>\n",
       "      <td>2022-12-28</td>\n",
       "      <td>573</td>\n",
       "      <td>65</td>\n",
       "      <td>0</td>\n",
       "      <td>3</td>\n",
       "      <td>PT1M</td>\n",
       "      <td>[nadir on the go, nadir on the go english, tra...</td>\n",
       "    </tr>\n",
       "    <tr>\n",
       "      <th>4</th>\n",
       "      <td>tdReiQV2hNc</td>\n",
       "      <td>Amazing view from top of Montenegro 🇲🇪</td>\n",
       "      <td>2022-12-28</td>\n",
       "      <td>1074</td>\n",
       "      <td>58</td>\n",
       "      <td>0</td>\n",
       "      <td>4</td>\n",
       "      <td>PT51S</td>\n",
       "      <td>[nadir on the go, nadir on the go english, tra...</td>\n",
       "    </tr>\n",
       "  </tbody>\n",
       "</table>\n",
       "</div>"
      ],
      "text/plain": [
       "      video_id                                        video_title upload_date  \\\n",
       "0  hlldAJFX6ko  David Beckham used to party on this Historic I...  2022-12-30   \n",
       "1  iejxvmCxpuY                 Journey to Budva from Podgorica 🇲🇪  2022-12-28   \n",
       "2  _0oHMwk6IY8      First Impressions of Podgorica, Montenegro 🇲🇪  2022-12-28   \n",
       "3  zpMvN-QM87M      Glacial Lake in Montenegro&#39;s mountains 🇲🇪  2022-12-28   \n",
       "4  tdReiQV2hNc             Amazing view from top of Montenegro 🇲🇪  2022-12-28   \n",
       "\n",
       "  view_count like_count dislike_count comment_count duration  \\\n",
       "0        709         60             0             2    PT58S   \n",
       "1        359         33             0             1    PT59S   \n",
       "2       1217         68             0             5    PT53S   \n",
       "3        573         65             0             3     PT1M   \n",
       "4       1074         58             0             4    PT51S   \n",
       "\n",
       "                                                tags  \n",
       "0  [nadir on the go, nadir on the go english, tra...  \n",
       "1  [nadir on the go, nadir on the go english, tra...  \n",
       "2  [nadir on the go, nadir on the go english, tra...  \n",
       "3  [nadir on the go, nadir on the go english, tra...  \n",
       "4  [nadir on the go, nadir on the go english, tra...  "
      ]
     },
     "execution_count": 3,
     "metadata": {},
     "output_type": "execute_result"
    }
   ],
   "source": [
    "# create dataframe with video informations\n",
    "response = ya.call_api(api_key, channel_id)\n",
    "df = ya.get_videos(response, ya.df)\n",
    "df.head()"
   ]
  },
  {
   "cell_type": "code",
   "execution_count": 4,
   "metadata": {},
   "outputs": [
    {
     "name": "stdout",
     "output_type": "stream",
     "text": [
      "Connected!\n"
     ]
    }
   ],
   "source": [
    "# server credentials\n",
    "host_name = 'x.rds.amazonaws.com'\n",
    "dbname = 'db'\n",
    "port = '5432'\n",
    "username = 'xyz'\n",
    "password = 'xyz'\n",
    "\n",
    "# connect to database\n",
    "conn = d.connect_to_db(host_name, dbname, port, username, password)\n",
    "curr = conn.cursor()\n"
   ]
  },
  {
   "cell_type": "code",
   "execution_count": 5,
   "metadata": {},
   "outputs": [],
   "source": [
    "#create table\n",
    "d.create_table(curr)"
   ]
  },
  {
   "cell_type": "code",
   "execution_count": 6,
   "metadata": {},
   "outputs": [],
   "source": [
    "#update data for existing videos\n",
    "new_vid_df = d.update_db(curr, df)"
   ]
  },
  {
   "cell_type": "code",
   "execution_count": 7,
   "metadata": {},
   "outputs": [],
   "source": [
    "#insert new videos into db table\n",
    "d.append_from_df_to_db(curr, new_vid_df)\n",
    "conn.commit()"
   ]
  },
  {
   "cell_type": "code",
   "execution_count": 8,
   "metadata": {},
   "outputs": [
    {
     "name": "stdout",
     "output_type": "stream",
     "text": [
      "[('hlldAJFX6ko', 'David Beckham used to party on this Historic Island 🇲🇪', datetime.date(2022, 12, 30), 709, 60, 0, 2, 'PT58S', '{\"nadir on the go\",\"nadir on the go english\",\"travel vlog\",\"david beckham\",\"victoria beckham\",\"sveti stefan\",budva,montenegro,balkans}'), ('iejxvmCxpuY', 'Journey to Budva from Podgorica 🇲🇪', datetime.date(2022, 12, 28), 359, 33, 0, 1, 'PT59S', '{\"nadir on the go\",\"nadir on the go english\",\"travel vlog\",\"montenegro travel\",\"podgorica montenegró\",\"podgorica montenegro\",\"montenegro travel video\",\"montenegro travel guide\",\"montenegro travel vlog\"}'), ('_0oHMwk6IY8', 'First Impressions of Podgorica, Montenegro 🇲🇪', datetime.date(2022, 12, 28), 1217, 68, 0, 5, 'PT53S', '{\"nadir on the go\",\"nadir on the go english\",\"travel vlog\",montenegro,podgorica,\"budget travel\",\"montenegro travel\",\"podgorica montenegro\",\"montenegro travel video\",\"montenegro travel vlog\",\"montenegro travel guide\"}'), ('zpMvN-QM87M', 'Glacial Lake in Montenegro&#39;s mountains 🇲🇪', datetime.date(2022, 12, 28), 573, 65, 0, 3, 'PT1M', '{\"nadir on the go\",\"nadir on the go english\",\"travel vlog\",\"durmitor national park\",\"crna gora\",\"montenegro travel guide\",\"kotor montenegro\",\"visit montenegro\",\"travel montenegro\",\"black lake montenegro\",\"montenegro travel\",\"black lake\"}'), ('tdReiQV2hNc', 'Amazing view from top of Montenegro 🇲🇪', datetime.date(2022, 12, 28), 1074, 58, 0, 4, 'PT51S', '{\"nadir on the go\",\"nadir on the go english\",\"travel vlog\",\"sveti stefan\",\"durmitor national park\",\"visit montenegro\",\"best of montenegro\",\"montenegro travel\",\"best places in montenegro\",\"tara bridge\",\"sveti stefan montenegro\",\"travel montenegro\"}'), ('DqvMUfWlP3o', 'Treacherous Climb in Durmitor, Montenegro 🇲🇪', datetime.date(2022, 12, 28), 616, 60, 0, 1, 'PT1M', '{\"nadir on the go\",\"nadir on the go english\",\"travel vlog\",montenegro,durmitor,\"bobotov kuk\",\"durmitor national park\",zabljak,hiking}'), ('OgZOa-34Y3I', 'Furry Friends on Montenegro Hike 🇲🇪', datetime.date(2022, 12, 27), 390, 39, 0, 3, 'PT44S', '{\"nadir on the go\",\"nadir on the go english\",\"travel vlog\"}'), ('Bjd6ivDZi0Q', 'Up Montenegro&#39;s Highest Mountain  🇲🇪', datetime.date(2022, 12, 27), 443, 33, 0, 3, 'PT1M', '{\"nadir on the go\",\"nadir on the go english\",\"travel vlog\"}'), ('XsCYFsqONWQ', 'Journey To Bobotov Kuk ,Montenegro 🇲🇪', datetime.date(2022, 12, 26), 812, 69, 0, 5, 'PT56S', '{\"nadir on the go\",\"nadir on the go english\",\"travel vlog\"}'), ('AiFlnAwxl0Q', 'Friendly Albanian knows Bollywood Classic 🇦🇱', datetime.date(2022, 12, 26), 1341, 67, 0, 6, 'PT30S', '{\"nadir on the go\",\"nadir on the go english\",\"travel vlog\",albanian,albania,\"durres albania\",\"albania vlog\",\"bollywood song\",\"classic bollywood\",\"albania fisherman\",durres,\"durres dock\"}'), ('28s1t0j9mrw', 'DON&#39;T Do This To Dogs in Albania 🇦🇱', datetime.date(2022, 12, 25), 1696, 79, 0, 6, 'PT52S', '{\"nadir on the go\",\"nadir on the go english\",\"travel vlog\",albania,\"dog attack\",\"durres albania\",\"albania vlog\",\"durres vlog\"}'), ('kxSHlcRc_Jw', '$0.90 Street Hot Dog in Durres, Albania 🇦🇱', datetime.date(2022, 12, 25), 811, 70, 0, 2, 'PT59S', '{\"nadir on the go\",\"nadir on the go english\",\"travel vlog\",\"nadir on the go albania\",\"travel albania\",durres,tirana,\"durres vlog\",\"albanian food\",\"abania food\",\"street food\",\"balkan food\",\"albania hot dog\"}'), ('7T_Z801GNc0', '$3.50 Shave in Tirana, Albania 🇦🇱', datetime.date(2022, 12, 24), 2494, 171, 0, 8, 'PT58S', '{\"nadir on the go\",\"nadir on the go english\",\"travel vlog\"}'), ('EZ2G369Gi7k', 'Ottoman Relics in Skopje, Macedonia 🇲🇰', datetime.date(2022, 12, 22), 956, 90, 0, 19, 'PT59S', '{\"nadir on the go\",\"nadir on the go english\",\"travel vlog\",\"budget travel\",\"skopje macedonia\",\"skopje travel\",\"macedonia food\",\"macedonian food\",\"adventure travel\",\"north macedonia vs italy\",\"macedonia travel\",\"skopje vlog\",\"skopje macedonia 4k\",\"skopje macedonia vlog\"}'), ('KnO4jpAHHuM', 'Cliff-diving in Montenegro 🇲🇪', datetime.date(2022, 12, 21), 1203, 100, 0, 5, 'PT44S', '{\"nadir on the go\",\"nadir on the go english\",\"travel vlog\",montenegro,budva,\"budva vlog\",\"montenegro vlog\",\"cliff diving\",\"kotor montenegro\",\"budva montenegro\",\"travel blog\"}'), ('Na2AiW3hvAQ', 'A Nuclear Bunker Bigger Than a Palace 🇦🇱', datetime.date(2022, 12, 21), 1109, 77, 0, 3, 'PT57S', '{\"nadir on the go\",\"nadir on the go english\",\"travel vlog\",\"bomb shelter\",\"underground bunker\",\"nuclear war\",\"fallout shelter\"}'), ('nj7yoopmUy4', 'Bus from Tirana, Albania to Skopje, Macedonia 🇦🇱 🇲🇰', datetime.date(2022, 12, 20), 1671, 119, 0, 8, 'PT58S', '{\"nadir on the go\",\"nadir on the go english\",\"travel vlog\"}'), ('Zw_v1po-t5s', 'First Day in North Macedonia - Skopje Vlog 🇲🇰', datetime.date(2022, 12, 17), 18822, 1069, 0, 189, 'PT16M53S', '{\"nadir on the go\",\"nadir on the go english\",\"travel vlog\",\"macedonia square\",\"skopje macedonia walking tour\",\"north macedonia\",\"skopje macedonia\",\"skopje vlog\",\"macedonia vlog\",\"skopje travel\",\"macedonia travel\",\"skopje travel blog\",\"visit macedonia\",\"macedonia travel vlog\",\"first impressions of macedonia\",\"macedonia skopje\",\"macedonia food\",\"first impressions of north macedonia\",\"skopje macedonia travel\",\"first time in skopje\",\"tour of skopje\",\"visit skopje\",\"skopje north macedonia\"}'), ('PeW7vRTC2tE', 'Tirana New Bazaar - Albania Market Hunt Vlog 🇦🇱', datetime.date(2022, 11, 29), 78534, 2776, 0, 225, 'PT14M2S', '{\"nadir on the go\",\"nadir on the go english\",\"travel vlog\"}'), ('ikdjrnVPPNY', 'No One Entered Or Left This Country for 40 Years!', datetime.date(2022, 11, 22), 25281, 1583, 0, 164, 'PT25M25S', '{\"nadir on the go\",\"nadir on the go english\",\"travel vlog\",albania,\"albania vlog\",\"albania communism\",\"fall of communism\",\"enver hoxha\",\"joseph stalin speech\",\"enver hoxha kercenon jugosllavine\",\"enver hoxha documentary\",\"enver hoxha dokumentar\",\"enver hoxha opinion\",\"albania documentary english\",\"albania documentary bbc\",\"communist albania documentary\",\"history of albania documentary\",\"socialist albania documentary\",\"albania 2022\",\"albania 2023\",\"albania travel vlog\",\"tirana vlog\"}'), ('HyiqzvOWf3k', 'How did I end up on Albanian News?🇦🇱', datetime.date(2022, 11, 11), 48823, 2882, 0, 153, 'PT9M', '{\"nadir on the go\",\"nadir on the go english\",\"travel vlog\",\"albanian news\",albania,\"albania news girl\",\"top channel\",\"good morning albania\",\"tirana albania\",euronews,\"euronews albania\",\"uk news\",\"bbc news\",\"travel vlog 2022\",\"travel blogger\",\"travel vlog bangladesh\"}'), ('NCR2elB4NWs', 'Dangerous Hike in Albanian Alps 🇦🇱', datetime.date(2022, 11, 3), 15406, 1324, 0, 32, 'PT1M', '{\"nadir on the go\",\"travel vlog\",\"albanian alps\",\"albania travel\",\"albania hike\",\"hiking albanian alps\",\"albania vlog\",\"travelling albania\",\"valbona theth hike\",\"valbona valley\",\"travel albania\",\"theth to valbona hike\",\"albanian mountains\",\"theth albania\",\"theth valbona\",\"north albania\",\"albanian vlog\",\"albania vlog 2022\",\"tirana albania vlog\",\"valbona theth hike tour\",\"valbona valley national park\",\"valbona valley albania\",\"albania tourism\",\"valbona theth\",\"theth valbona hike\",\"albania hikes\"}'), ('gsN_g3UfYLc', 'The Albanian Alps -  Theth to Valbona hike 🇦🇱', datetime.date(2022, 10, 30), 62224, 3426, 0, 260, 'PT12M25S', '{\"nadir on the go\",\"nadir on the go english\",\"travel vlog\",\"albanian alps\",\"valbona theth hike\",\"albania travel\",\"theth valbona hike\",\"albania hike\",\"valbona theth\",\"theth to valbona hike\",\"theth valbona\",\"hiking valbona to theth\",\"albania hiking\",\"hiking albanian alps\",\"valbona albania hike\",\"valbona valley\",\"theth to valbona trail\",\"wild nature\",\"best hike in albania\",\"balkans albania\",\"hiking in albania\",\"albania vlog\",\"valbona albania\",\"travel albania\",\"valbona to theth\",\"blue eye albania\"}'), ('cEYcsrN6c-g', 'First Day in Albania - Tirana Vlog 🇦🇱', datetime.date(2022, 10, 22), 253803, 8823, 0, 874, 'PT15M33S', '{\"nadir on the go\",\"nadir on the go english\",\"travel vlog\",\"tirana albania\",\"albania travel vlog\",\"albania travel\",\"tirana vlog\",\"tirana albania 2022\",\"tirana travel guide\",\"first impressions of tirana\",\"first impressions of albania\",\"first time in albania\",\"first day in albania\",\"albania vlog\",\"what to do in tirana\",\"tirana travel vlog\",\"things to do in tirana\",\"travel tirana\",\"tirana albania walking tour\",\"tirana albania drone\",\"albanian people\",\"tirana albania vlog\",tirana,albania}'), ('CyxzEGHcLNc', 'Prokletije Sunset in Montenegro 🇲🇪', datetime.date(2022, 10, 19), 3299, 336, 0, 13, 'PT47S', '{\"nadir on the go\",\"nadir on the go english\",\"grebaje valley\",\"peaks of the balkans\",\"hiking balkans\",\"peaks of the balkans hike\",\"peaks of the balkans 2022\",\"montenegro travel\",\"europe country travel\",\"hiking europe\",\"cheap country europe\",\"accursed mountains\",\"balkans travel\",\"peaks of the balkans self guided\",\"peaks of the balkans albania\",plav,gusinje,\"plav lake\",\"montenegro hike\",\"prokletije national park\",\"prokletije 2022\",\"accursed mountains hiking\",\"peaks of the balkan\",\"albania vlog\"}'), ('kzi5qq7LlVw', 'I Hiked from Montenegro to Albania - Peaks of the Balkans 🇲🇪', datetime.date(2022, 10, 6), 54710, 1909, 0, 332, 'PT8M39S', '{\"nadir on the go\",\"nadir on the go english\",\"grebaje valley\",\"peaks of the balkans\",\"hiking balkans\",\"peaks of the balkans hike\",\"peaks of the balkans 2022\",\"montenegro travel\",\"europe country travel\",\"hiking europe\",\"cheap country europe\",\"accursed mountains\",\"balkans travel\",\"peaks of the balkans self guided\",\"peaks of the balkans albania\",plav,gusinje,\"plav lake\",\"montenegro hike\",\"prokletije national park\",\"prokletije 2022\",\"accursed mountains hiking\",\"peaks of the balkan\",\"albania vlog\"}'), ('39wjZlnxuWM', 'Dangerous Climb Up Bobotov Kuk - Durmitor, Montenegro 🇲🇪', datetime.date(2022, 9, 22), 19892, 1549, 0, 116, 'PT10M50S', '{\"nadir on the go english\",\"durmitor national park\",\"travel vlog\",\"montenegro mountain\",\"durmitor montenegro\",\"bobotov kuk durmitor\",\"bobotov kuk planinarenje\",\"bobotov kuk trekking\",\"bobotov kuk hike from zabljak\",Žabljak,\"bobotov kuk uspon\",durmitor,\"tara canyon\",\"Montenegro Travel vlog\",\"montenegro 2022\",\"montenegro hiking\",\"montenegro hikes\",\"best montenegro hike\",\"montenegro travel guide\",\"montenegro travel 2022\",\"montenegro travel video\",\"montenegro travel tips\",\"Montenegro travel blog\"}'), ('vOlxiLh8Xzg', 'First Impressions of Budva, Montenegro 🇲🇪', datetime.date(2022, 9, 13), 42977, 2197, 0, 173, 'PT16M41S', '{\"nadir on the go\",\"nadir on the go english\",\"budva vlog\",budva,motenegro,\"budva 2022\",\"montenegro budva\",\"travel montenegro\",\"budva montenegro\",\"travel vlog\",\"montenegro travel\",\"montenegro travel video\",\"montenegro travel vlog\",\"montenegro travel guide\",\"eastern europe\",\"budget travel\",\"budget travel destinations\",\"budget travel tips\",\"travel vlog 2022\",\"travel vlog aesthetic\",\"travel vlog bangladesh\",\"travel vlog india\",\"budva montenegró\",\"sveti stefan\",\"sveti stefan tour\",\"Montenegro drone\"}'), ('GDg3l0QPEBM', 'The Future of Travel - eSim Holafly Review', datetime.date(2022, 8, 18), 11756, 600, 0, 29, 'PT6M31S', '{\"nadir on the go\",\"nadir on the go english\",\"travel vlog\",eSim,\"unlimited data\",holafly,\"travel abroad\",\"fast connection\",usa,europe,\"holafly esim\",\"travel sim card\",\"iphone esim\",\"what is esim\",\"travel sim\",\"digital nomad\",\"holafly esim review\",\"best travel esim\",\"embedded sim\",\"holafly sim card review\",\"holafly review\",\"travel data internet\",\"mobile internet abroad\",\"esim international roaming\",\"travel data internet reviews\",\"travel vlog 2022\",\"esim holafly\",\"holafly esim setup\"}'), ('lBS04wo6E3k', 'Kafanas Are Lit - Traditional Tavern in Serbia 🇷🇸', datetime.date(2022, 8, 17), 16367, 890, 0, 76, 'PT7M22S', '{\"nadir on the go\",\"nadir on the go english\",\"travel vlog\",\"belgrade serbia travel\",\"serbia travel\",\"belgrade serbia\",\"belgrade food\",\"belgrade vlog\",\"traditional serbian food\",\"serbian food\",\"balkan travel\",\"belgrade travel\",\"balkan food tour\",\"serbia travel vlog\",\"kafana serbia\",\"belgrade food tour\",\"serbian food tour\",\"best food in belgrade\",\"travelling during pandemic\",\"serbia food vlog\",\"travel guide\",\"belgrade rakija\",\"rakija serbia\",\"serbia vlog\",\"serbia travel guide\",\"belgrade 2021\"}'), ('TlNz8nq1i-o', 'In Nepal&#39;s Dangerous Jungle - Chitwan National Park 🇳🇵', datetime.date(2022, 8, 10), 37972, 2147, 0, 106, 'PT6M46S', '{\"nadir on the go\",\"nadir on the go english\",\"travel vlog\",\"chitwan national park\",\"chitwan nepal\",\"jungle safari\",\"chitwan national park safari\",\"chitwan national park 2022\",\"chitwan national park nepal tiger attack\",\"chitwan national park jeep safari\",\"chitwan national park vlog\",\"chitwan national park nepal\",\"chitwan national park tiger\",\"chitwan national park elephant\",\"nepal chitwan national park\",\"chitwan nepal tiger safari\",\"nepal chitwan tour\",\"nepal tigers\",\"bengal tigers\",\"asian rhino\"}'), ('oFcz_Vwba_I', 'Fascinating Funeral Rituals in Kathmandu, Nepal 🇳🇵', datetime.date(2022, 8, 9), 11039, 732, 0, 44, 'PT10M22S', '{\"nadir on the go\",\"nadir on the go english\",\"travel vlog\",\"travel vlog 2022\",\"hindu funeral\",\"kathmandu city 2022\",\"kathmandu city tour\",\"kathmandu city\",\"hindu funeral songs\",\"hindu funeral video\",\"nadir on the go nepal\",\"nadir on the go himalaya\",\"hindu funeral service\",\"kathmandu city nepal\",\"pashupatinath temple cinematic\",\"pashupatinath temple history\",\"kathmandu city video\",\"pashupatinath temple nepal\",\"pashupatinath temple nepal aarti\",\"pashupatinath temple nepal history\"}'), ('N0KNrk2YCnU', 'Journey Into the Himalayas 🇳🇵 - The Annapurna Finale', datetime.date(2022, 8, 2), 55594, 3632, 0, 285, 'PT12M11S', '{\"nadir on the go\",\"nadir on the go english\",\"mardi himal base camp\",\"mardi himal\",\"nepal mardi himal trek\",\"annapurna circuit trek 2022\",\"mardi himal trek\",\"mardi himal trek route from pokhara\",\"annapurna circuit nepal\",\"annapurna base camp trek\",\"mardi himal trek in nepal\",\"mardi himal trek vlog\",\"trek to mardi himal\",\"annapurna base camp\",\"annapurna circuit trek\",\"himalaya hiking\",\"nepal himalaya trail\",\"mardi himal trek guide\",\"Annapurna circuit trek cost\",\"Travel vlog 2022\",annapurna}'), ('r8n_OqrK-Og', 'Journey Into the Himalayas 🇳🇵 - Part 1 of 2', datetime.date(2022, 7, 29), 44905, 2548, 0, 142, 'PT15M29S', '{\"nadir on the go\",\"nadir on the go english\",\"himalaya hiking\",\"nepal mardi himal trek\",\"annapurna circuit trek 2022\",\"mardi himal base camp\",\"mardi himal trek\",\"mardi himal trek route from pokhara\",\"nepal himalaya trail\",\"annapurna circuit nepal\",\"annapurna base camp trek\",\"mardi himal trek in nepal\",\"mardi himal trek vlog\",\"mardi himal trek guide\",\"trek to mardi himal\",\"annapurna base camp\",\"annapurna circuit trek\",\"travel vlog\",\"travel vlog 2022\",\"mardi himal\",\"Annapurna circuit trek cost\"}'), ('Jw1i5ClXi60', 'Visiting Nepal&#39;s Ancient Capital City - Bhaktapur Vlog 🇳🇵', datetime.date(2022, 7, 21), 13751, 975, 0, 64, 'PT6M58S', '{\"nadir on the go english\",\"bhaktapur vlog\",\"nepal bhaktapur\",\"nadir on the go\",\"bhaktapur nepali\",\"bhaktapur video\",\"nepal travel vlog\",\"durbar square\",\"bhaktapur durbar square\",\"unesco world heritage\",\"durbar square bhaktapur\",\"nepal travel\",\"nepal travel vlog 2022\",\"unesco world heritage sites\",\"bhaktapur travel\",\"bhaktapur nepal\",\"bhaktapur city nepal\",\"travel vlog\",\"travel blogger\",\"nepal vlog\",\"nepal travel video\",\"nepal tourism\",\"travel nepal\",\"nepal vlogger\",\"nepal food\",\"Nepalese food\"}'), ('I6tBr9d-UmI', 'Visiting Prophet Adam&#39;s First Footstep - Adam&#39;s Peak 🇱🇰', datetime.date(2022, 7, 13), 32967, 1220, 0, 76, 'PT7M56S', '{\"nadir on the go\",\"nadir on the go english\",\"adam\\'s peak\",\"adam\\'s peak vlog\",\"sri pada\",\"sri pada vlog\",\"adams peak\",\"adam\\'s peak sunrise\",\"sri lanka\",\"adams peak sri lanka\",\"adam & eve\",\"where adam was landed on earth?\",\"visit to sri lanka\",\"first foot print of human\",\"places to visit in sri lanka\",\"nadir on the go sri lanka\",\"travel blog\",\"travel vlog 2022\",\"travel blogger\",\"Sri lanka cricket\",\"adams peak travel\",\"adams peak sunrise\",\"adams peak climb\",\"adams peak footprint\"}'), ('89pCHrEtD6Y', 'World-Famous Ella Train Ride - Sri Lanka 🇱🇰', datetime.date(2022, 7, 11), 10078, 614, 0, 36, 'PT3M33S', '{\"ella train\",\"nadir on the go\",\"nadir on the go english\",\"ella train journey\",\"train sri lanka\",\"ella sri lanka\",ella,\"kandy to ella train journey\",\"ella to kandy train\",\"kandy to ella\",\"ella to kandy train journey\",\"train travel in sri lanka\",\"ella to kandy\",\"sri lanka train\",\"kandy to ella train ride\",\"travel vlog\",\"kandy to ella train\",\"train from kandy to elle\",kandy,\"sri lanka\",\"travel tips\",\"travel blog\",\"travel vlog 2022\",\"sri lanka cricket\",\"sri lanka travel guide\",\"Sri lankan train\"}'), ('ksE5SflUgiU', 'Face to Face with Wild Elephant Family - Udawalawe, Sri Lanka 🇱🇰', datetime.date(2022, 7, 8), 5677, 427, 0, 31, 'PT5M18S', '{\"nadir on the go\",\"travel vlog\",\"sri lanka\",\"udawalawe national park\",\"sri lanka safari\",\"udawalawe safari\",\"udawalawe safari animals\",udawalawe,udawalawa,\"sri lanka travel\",\"sri lanka elephants\",\"travel sri lanka\",\"national park\",\"travel blogger\",\"safari jeep in sri lanka\",\"travel sri lanka sinhala\",\"sri lanka vlog\",\"sri lanka travel guide\",\"sri lanka travel 2022\",\"sri lanka travel vlog\",\"sri lanka travel video\",\"sri lanka travel places\",\"elephant safari\",\"sri lankan elephants\",\"save elephants\"}'), ('awKWqzSPLa8', 'Venomous Snakes  The Wildest Beaches - Sri Lanka  🇱🇰', datetime.date(2022, 7, 3), 10546, 770, 0, 60, 'PT8M38S', '{\"nadir on the go english\",\"nadir on the go\",\"venomous snakes\",\"sri lanka cricket\",\"sri lanka beaches\",\"sri lanka vlog 2022\",\"snake island\",\"sri lankan vlogger\",\"sri lankan vlogs\",\"sri lanka travel guide\",\"sri lanka vlog\",\"mirissa sri lanka\",\"travel vlog\",\"sri lanka\",\"sri lanka travel\",\"hikkaduwa sri lanka\",\"south sri lanka\",\"mirissa vlog\",\"hikkaduwa vlog\",\"sri lanka protests\",\"travel blogger\",\"sri lanka news today sinhala\",\"hikkaduwa travel vlog\",\"travel vlog 2022\",\"Snake bites man\"}'), ('zvy3ZaVIfPY', 'First Impressions of Nepal - Kathmandu Day 1 🇳🇵', datetime.date(2022, 6, 29), 54168, 2983, 0, 215, 'PT14M', '{\"kathmandu first impressions\",\"first impressions of kathmandu\",\"first impressions of Nepal\",\"nepal first impressions\",\"nepal vlog\",\"kathmandu vlog\",\"kathmandu nepal\",\"nepal travel\",\"backpacking nepal\",\"durbar square kathmandu\",\"nepal travel guide\",\"kathmandu nepal airport\",\"kathmandu hippie trail\",\"kathmandu nepal city\",\"travel vlog\",\"swayambhunath kathmandu\",\"travel cheap nepal\",\"kathmandu durbar square introduction\",\"solo travel vlog nepal\",\"travel vlog 2022\",\"Nepal travel vlog\"}'), ('5zDr5HhBQi0', 'Agra Vlog - The Mughal Empire&#39;s Story  🇮🇳', datetime.date(2022, 6, 26), 24677, 1973, 0, 123, 'PT11M8S', '{\"nadir on the go\",\"nadir on the go english\",\"akbar the great\",\"mughal king\",\"agra history\",\"tomb of akbar\",\"travel vlog\",\"mughal empire\",\"taj mahal\",\"agra fort\",agra,\"aram bagh\",\"indian history\",\"mughal empire history\",\"battle of panipat\",\"shah jahan\",babur,akbar,jahangir,akbarthegreat,\"islam in india\",\"british empire\",\"taj mahal history\",\"travel vlog 2022\",\"travel vlog india\",\"travel blogger\",\"islam in indian subcontinent\",\"history of the world\",\"delhi sultanate\",\"Delhi sultanate history\"}'), ('dfH5c429gIk', 'First Impressions of Jaipur, Rajasthan | Pink City Vlog 🇮🇳', datetime.date(2022, 6, 9), 9750, 711, 0, 64, 'PT9M51S', '{\"monkey attack\",\"jaipur rajasthan\",\"jaipur vlog\",rajasthan,\"pink city vlog\",\"jaipur history\",\"amber fort monkeys\",\"pink city jaipur\",\"indian lengur\",\"jaipur lengur\",\"lengur attack\",\"jal mahal\",\"amber fort vlog\",\"amer fort vlog\",\"amer fort jaipur\",\"amer fort elephant abuse\",\"amer fort elephants\",\"monkey video\"}'), ('f2uo7rYE3-g', 'Himalayas Sunrise - Annapurna Sanctuary 🇳🇵', datetime.date(2022, 5, 20), 124252, 10701, 0, 140, 'PT18S', '{himlayas,himalaya,\"himalaya parvat\",himalayan,\"annapurna sanctuary\",\"himalayan mountain\",\"himalayan mountains\",\"nadir on the go english\",\"nadir on the go\",\"himalaya hike\",nepal,annapurna,trekking,\"mardi himal trek\",\"mardi himal\",\"himalayas documentary\",\"nepal himalya\",\"himalalay trek\",\"himalayan trek\",\"himalayan drone\",\"annapurna base camp\",\"annapurna base camp trekking\",nadironthego,\"annapurna base camp trek\",\"trekking to annapurna base camp in nepal\",\"annapurna base camp trek solo\",\"abc trek\"}'), ('uk6PY3v3038', 'Is it Safe to Travel Sri Lanka Now? 🇱🇰 - Shocking Reality of Tourist Life in the Crisis', datetime.date(2022, 5, 9), 44968, 2204, 0, 163, 'PT11M42S', '{\"is sri lanka dangerous\",\"is it safe in sri lanka\",\"sri lanka travel safety now\",\"is srilanka safe\",\"is sri lanka safe to travel\",\"Is Sri Lanka Safe to Travel now\",\"sri lanka travel 2022\",\"sri lanka now\",\"sri lankan crisis\",\"sri lankan economic crisis\",\"sri lanka crisis\",\"sri lanka protests\",\"sri lanka political crisis\",\"sri lanka economic crisis\",\"sri lanka news\",\"sri lanka news today\",\"sri lanka news today english\",\"sri lanka latest news english\",\"Sri lanka crisis explained\"}'), ('oHpLkdwBGEU', 'First Impressions of Jaisalmer - Rajasthan Vlog 🇮🇳', datetime.date(2022, 4, 20), 10426, 722, 0, 51, 'PT13M1S', '{\"thar desert\",\"jaisalmer vlog\",\"thar desert pakistan\",\"thar desert rajasthan\",\"thar desert documentary\",\"jaisalmer tourist places\",\"jaisalmer tour\",jaisalmer,\"rajasthan sand dunes\",\"rajasthan camels\",\"rajasthan safari\",\"jaisalmer rajasthan\",\"jaisalmer fort\",\"first impresions of jaisalmer\",\"jaisalmer fort drone view\",\"jaisalmer fort tour\",\"jaisalmer fort hotel\",\"jaisalmer fort guided tour\",\"jaisalmer fort inside\",\"jaisalmer vlog in english\",\"jaisalmer tour vlog\"}')]\n"
     ]
    }
   ],
   "source": [
    "#view data in db table\n",
    "curr.execute(\"SELECT * FROM VIDEOS\")\n",
    "print(curr.fetchall())"
   ]
  },
  {
   "cell_type": "code",
   "execution_count": 9,
   "metadata": {},
   "outputs": [],
   "source": [
    "conn.close()"
   ]
  }
 ],
 "metadata": {
  "kernelspec": {
   "display_name": "Python 3",
   "language": "python",
   "name": "python3"
  },
  "language_info": {
   "codemirror_mode": {
    "name": "ipython",
    "version": 3
   },
   "file_extension": ".py",
   "mimetype": "text/x-python",
   "name": "python",
   "nbconvert_exporter": "python",
   "pygments_lexer": "ipython3",
   "version": "3.9.6 (tags/v3.9.6:db3ff76, Jun 28 2021, 15:26:21) [MSC v.1929 64 bit (AMD64)]"
  },
  "orig_nbformat": 4,
  "vscode": {
   "interpreter": {
    "hash": "7459fc3de7a9cfbb16956cc8e27f933e0ea1512a8cf97ca2195aa9f74a47b2b0"
   }
  }
 },
 "nbformat": 4,
 "nbformat_minor": 2
}
